{
 "cells": [
  {
   "cell_type": "code",
   "execution_count": null,
   "id": "b7209f45-bf40-4708-b5a5-e9d59511a3de",
   "metadata": {},
   "outputs": [
    {
     "name": "stdout",
     "output_type": "stream",
     "text": [
      "Requirement already satisfied: ipython-sql in c:\\users\\mansi\\anaconda3\\lib\\site-packages (0.5.0)\n",
      "Requirement already satisfied: prettytable in c:\\users\\mansi\\anaconda3\\lib\\site-packages (from ipython-sql) (3.10.2)\n",
      "Requirement already satisfied: ipython in c:\\users\\mansi\\anaconda3\\lib\\site-packages (from ipython-sql) (8.20.0)\n",
      "Requirement already satisfied: sqlalchemy>=2.0 in c:\\users\\mansi\\anaconda3\\lib\\site-packages (from ipython-sql) (2.0.25)\n",
      "Requirement already satisfied: sqlparse in c:\\users\\mansi\\anaconda3\\lib\\site-packages (from ipython-sql) (0.5.0)\n",
      "Requirement already satisfied: six in c:\\users\\mansi\\anaconda3\\lib\\site-packages (from ipython-sql) (1.16.0)\n",
      "Requirement already satisfied: ipython-genutils in c:\\users\\mansi\\anaconda3\\lib\\site-packages (from ipython-sql) (0.2.0)\n",
      "Requirement already satisfied: typing-extensions>=4.6.0 in c:\\users\\mansi\\anaconda3\\lib\\site-packages (from sqlalchemy>=2.0->ipython-sql) (4.9.0)\n",
      "Requirement already satisfied: greenlet!=0.4.17 in c:\\users\\mansi\\anaconda3\\lib\\site-packages (from sqlalchemy>=2.0->ipython-sql) (3.0.1)\n",
      "Requirement already satisfied: decorator in c:\\users\\mansi\\anaconda3\\lib\\site-packages (from ipython->ipython-sql) (5.1.1)\n",
      "Requirement already satisfied: jedi>=0.16 in c:\\users\\mansi\\anaconda3\\lib\\site-packages (from ipython->ipython-sql) (0.18.1)\n",
      "Requirement already satisfied: matplotlib-inline in c:\\users\\mansi\\anaconda3\\lib\\site-packages (from ipython->ipython-sql) (0.1.6)\n",
      "Requirement already satisfied: prompt-toolkit<3.1.0,>=3.0.41 in c:\\users\\mansi\\anaconda3\\lib\\site-packages (from ipython->ipython-sql) (3.0.43)\n",
      "Requirement already satisfied: pygments>=2.4.0 in c:\\users\\mansi\\anaconda3\\lib\\site-packages (from ipython->ipython-sql) (2.15.1)\n",
      "Requirement already satisfied: stack-data in c:\\users\\mansi\\anaconda3\\lib\\site-packages (from ipython->ipython-sql) (0.2.0)\n",
      "Requirement already satisfied: traitlets>=5 in c:\\users\\mansi\\anaconda3\\lib\\site-packages (from ipython->ipython-sql) (5.7.1)\n",
      "Requirement already satisfied: colorama in c:\\users\\mansi\\anaconda3\\lib\\site-packages (from ipython->ipython-sql) (0.4.6)\n",
      "Requirement already satisfied: wcwidth in c:\\users\\mansi\\anaconda3\\lib\\site-packages (from prettytable->ipython-sql) (0.2.5)\n",
      "Requirement already satisfied: parso<0.9.0,>=0.8.0 in c:\\users\\mansi\\anaconda3\\lib\\site-packages (from jedi>=0.16->ipython->ipython-sql) (0.8.3)\n",
      "Requirement already satisfied: executing in c:\\users\\mansi\\anaconda3\\lib\\site-packages (from stack-data->ipython->ipython-sql) (0.8.3)\n",
      "Requirement already satisfied: asttokens in c:\\users\\mansi\\anaconda3\\lib\\site-packages (from stack-data->ipython->ipython-sql) (2.0.5)\n",
      "Requirement already satisfied: pure-eval in c:\\users\\mansi\\anaconda3\\lib\\site-packages (from stack-data->ipython->ipython-sql) (0.2.2)\n",
      "Requirement already satisfied: sqlalchemy in c:\\users\\mansi\\anaconda3\\lib\\site-packages (2.0.25)\n",
      "Requirement already satisfied: typing-extensions>=4.6.0 in c:\\users\\mansi\\anaconda3\\lib\\site-packages (from sqlalchemy) (4.9.0)\n",
      "Requirement already satisfied: greenlet!=0.4.17 in c:\\users\\mansi\\anaconda3\\lib\\site-packages (from sqlalchemy) (3.0.1)\n",
      "Requirement already satisfied: psycopg2 in c:\\users\\mansi\\anaconda3\\lib\\site-packages (2.9.9)\n",
      "Requirement already satisfied: sql in c:\\users\\mansi\\anaconda3\\lib\\site-packages (2022.4.0)\n"
     ]
    }
   ],
   "source": [
    "\n",
    "!pip install ipython-sql\n",
    "!pip install sqlalchemy\n",
    "!pip install psycopg2\n",
    "!pip install sql\n",
    "import sqlite3"
   ]
  },
  {
   "cell_type": "code",
   "execution_count": 2,
   "id": "0474dd4b-a7f1-4479-91e2-67f3c50fd96a",
   "metadata": {},
   "outputs": [],
   "source": [
    "from sqlalchemy.engine import create_engine\n",
    "import sqlite3\n",
    "from pandas.io import sql\n",
    "import subprocess\n",
    "%reload_ext sql"
   ]
  },
  {
   "cell_type": "code",
   "execution_count": 3,
   "id": "85e4dd8d-63bd-4860-9b2a-d717faab386f",
   "metadata": {},
   "outputs": [],
   "source": [
    "conn = sqlite3.connect(\"C:\\\\Users\\\\mansi\\\\Downloads\\\\international_debt.db\")"
   ]
  },
  {
   "cell_type": "code",
   "execution_count": null,
   "id": "e5acac3e-2181-4905-8c21-28fd15e84e10",
   "metadata": {},
   "outputs": [],
   "source": [
    "%sql sqlite:///C:/Users/mansi/Downloads/international_debt.db"
   ]
  },
  {
   "cell_type": "markdown",
   "id": "04789fcf-686f-446b-95fb-cfd86d3753eb",
   "metadata": {},
   "source": [
    "## 1.The World Bank's international debt data"
   ]
  },
  {
   "cell_type": "markdown",
   "id": "0c7d5653-f3c1-4dab-aeee-fbfbec7b59ad",
   "metadata": {},
   "source": [
    "It's not that we only humans take debts to manage our necessities. A country may also take debt to manage its economy.For example, infrastructure spending is one costly ingridient required for the countrys, citizens to lead comfortable lives.The World Bank is the organization that provides debt to countries.\n",
    "\n",
    "In this notebook, we are going to analyze the internationsl debt data collected by The World Bank. The dataset contains information about the amount of debt(in USD) owed by developing countries across several catagories. We are going to find answers to questions like:\n",
    "\n",
    "\n",
    "  1.What is the total amount of debt that is owed by the countries listed in the dataset?\n",
    "  2.Which country owns the maximum amount of debt and what does that amount look like?\n",
    "  3.What is the average amount of debt owed by the countries across different debt           indicators?\n",
    "\n",
    "  \n",
    "Let's first SELECT all of the columns from the international_debt.Also,we'll limit the output to the first ten rows to keep the output clean.\n",
    "  "
   ]
  },
  {
   "cell_type": "code",
   "execution_count": null,
   "id": "bde49555-835c-45f4-aabc-bfb516385be1",
   "metadata": {},
   "outputs": [
    {
     "name": "stdout",
     "output_type": "stream",
     "text": [
      " * sqlite:///C:/Users/mansi/Downloads/international_debt.db\n",
      "Done.\n"
     ]
    },
    {
     "data": {
      "text/html": [
       "<table>\n",
       "    <thead>\n",
       "        <tr>\n",
       "            <th>country_name</th>\n",
       "            <th>country_code</th>\n",
       "            <th>indicator_name</th>\n",
       "            <th>indicator_code</th>\n",
       "            <th>debt</th>\n",
       "        </tr>\n",
       "    </thead>\n",
       "    <tbody>\n",
       "        <tr>\n",
       "            <td>Afghanistan</td>\n",
       "            <td>AFG</td>\n",
       "            <td>Disbursements on external debt, long-term (DIS, current US$)</td>\n",
       "            <td>DT.DIS.DLXF.CD</td>\n",
       "            <td>72894453.7</td>\n",
       "        </tr>\n",
       "        <tr>\n",
       "            <td>Afghanistan</td>\n",
       "            <td>AFG</td>\n",
       "            <td>Interest payments on external debt, long-term (INT, current US$)</td>\n",
       "            <td>DT.INT.DLXF.CD</td>\n",
       "            <td>53239440.1</td>\n",
       "        </tr>\n",
       "        <tr>\n",
       "            <td>Afghanistan</td>\n",
       "            <td>AFG</td>\n",
       "            <td>PPG, bilateral (AMT, current US$)</td>\n",
       "            <td>DT.AMT.BLAT.CD</td>\n",
       "            <td>61739336.9</td>\n",
       "        </tr>\n",
       "        <tr>\n",
       "            <td>Afghanistan</td>\n",
       "            <td>AFG</td>\n",
       "            <td>PPG, bilateral (DIS, current US$)</td>\n",
       "            <td>DT.DIS.BLAT.CD</td>\n",
       "            <td>49114729.4</td>\n",
       "        </tr>\n",
       "        <tr>\n",
       "            <td>Afghanistan</td>\n",
       "            <td>AFG</td>\n",
       "            <td>PPG, bilateral (INT, current US$)</td>\n",
       "            <td>DT.INT.BLAT.CD</td>\n",
       "            <td>39903620.1</td>\n",
       "        </tr>\n",
       "        <tr>\n",
       "            <td>Afghanistan</td>\n",
       "            <td>AFG</td>\n",
       "            <td>PPG, multilateral (AMT, current US$)</td>\n",
       "            <td>DT.AMT.MLAT.CD</td>\n",
       "            <td>39107845</td>\n",
       "        </tr>\n",
       "        <tr>\n",
       "            <td>Afghanistan</td>\n",
       "            <td>AFG</td>\n",
       "            <td>PPG, multilateral (DIS, current US$)</td>\n",
       "            <td>DT.DIS.MLAT.CD</td>\n",
       "            <td>23779724.3</td>\n",
       "        </tr>\n",
       "        <tr>\n",
       "            <td>Afghanistan</td>\n",
       "            <td>AFG</td>\n",
       "            <td>PPG, multilateral (INT, current US$)</td>\n",
       "            <td>DT.INT.MLAT.CD</td>\n",
       "            <td>13335820</td>\n",
       "        </tr>\n",
       "        <tr>\n",
       "            <td>Afghanistan</td>\n",
       "            <td>AFG</td>\n",
       "            <td>PPG, official creditors (AMT, current US$)</td>\n",
       "            <td>DT.AMT.OFFT.CD</td>\n",
       "            <td>100847181.9</td>\n",
       "        </tr>\n",
       "        <tr>\n",
       "            <td>Afghanistan</td>\n",
       "            <td>AFG</td>\n",
       "            <td>PPG, official creditors (DIS, current US$)</td>\n",
       "            <td>DT.DIS.OFFT.CD</td>\n",
       "            <td>72894453.7</td>\n",
       "        </tr>\n",
       "    </tbody>\n",
       "</table>"
      ],
      "text/plain": [
       "[('Afghanistan', 'AFG', 'Disbursements on external debt, long-term (DIS, current US$)', 'DT.DIS.DLXF.CD', 72894453.7),\n",
       " ('Afghanistan', 'AFG', 'Interest payments on external debt, long-term (INT, current US$)', 'DT.INT.DLXF.CD', 53239440.1),\n",
       " ('Afghanistan', 'AFG', 'PPG, bilateral (AMT, current US$)', 'DT.AMT.BLAT.CD', 61739336.9),\n",
       " ('Afghanistan', 'AFG', 'PPG, bilateral (DIS, current US$)', 'DT.DIS.BLAT.CD', 49114729.4),\n",
       " ('Afghanistan', 'AFG', 'PPG, bilateral (INT, current US$)', 'DT.INT.BLAT.CD', 39903620.1),\n",
       " ('Afghanistan', 'AFG', 'PPG, multilateral (AMT, current US$)', 'DT.AMT.MLAT.CD', 39107845),\n",
       " ('Afghanistan', 'AFG', 'PPG, multilateral (DIS, current US$)', 'DT.DIS.MLAT.CD', 23779724.3),\n",
       " ('Afghanistan', 'AFG', 'PPG, multilateral (INT, current US$)', 'DT.INT.MLAT.CD', 13335820),\n",
       " ('Afghanistan', 'AFG', 'PPG, official creditors (AMT, current US$)', 'DT.AMT.OFFT.CD', 100847181.9),\n",
       " ('Afghanistan', 'AFG', 'PPG, official creditors (DIS, current US$)', 'DT.DIS.OFFT.CD', 72894453.7)]"
      ]
     },
     "execution_count": 5,
     "metadata": {},
     "output_type": "execute_result"
    }
   ],
   "source": [
    "%%sql\n",
    "SELECT * FROM international_debt LIMIT 10;"
   ]
  },
  {
   "cell_type": "markdown",
   "id": "a2f93ce3-1b15-4db5-958f-2504ca984233",
   "metadata": {},
   "source": [
    "## 2.Finding the number of distinct countries"
   ]
  },
  {
   "cell_type": "markdown",
   "id": "cc684bfd-3860-4296-81ee-c8ec0ebd8e2d",
   "metadata": {},
   "source": [
    "From the 1st 10 rows, we can see the amount of debt owed by Afganisthan in the different debt indicators. But we do not know the number of different countries we have on the tabel.\n",
    "There are repititon in the country names because a country is most likely to have debt in more that one debt indicator\n",
    "\n",
    "Without a count of unique countries we will not be able to perform our statistical analysis holistically.In this section, we are going to extract the number of unique countries in the table."
   ]
  },
  {
   "cell_type": "code",
   "execution_count": null,
   "id": "75f9e3c9-e730-411e-8393-1412743db93d",
   "metadata": {},
   "outputs": [
    {
     "name": "stdout",
     "output_type": "stream",
     "text": [
      " * sqlite:///C:/Users/mansi/Downloads/international_debt.db\n",
      "Done.\n"
     ]
    },
    {
     "data": {
      "text/html": [
       "<table>\n",
       "    <thead>\n",
       "        <tr>\n",
       "            <th>total_distinct_countries</th>\n",
       "        </tr>\n",
       "    </thead>\n",
       "    <tbody>\n",
       "        <tr>\n",
       "            <td>124</td>\n",
       "        </tr>\n",
       "    </tbody>\n",
       "</table>"
      ],
      "text/plain": [
       "[(124,)]"
      ]
     },
     "execution_count": 7,
     "metadata": {},
     "output_type": "execute_result"
    }
   ],
   "source": [
    "%%sql\n",
    "SELECT\n",
    "    COUNT(DISTINCT country_name) AS total_distinct_countries\n",
    "FROM international_debt;"
   ]
  },
  {
   "cell_type": "markdown",
   "id": "8c7c5b16-eb75-410a-a85a-9bd068dd4cd6",
   "metadata": {},
   "source": [
    "## 3.Finding out the distinct debt indicators "
   ]
  },
  {
   "cell_type": "markdown",
   "id": "42e83c93-8640-4252-8717-733e6396e341",
   "metadata": {},
   "source": [
    "We can see there are total of 124 countries present on the table. As we saw in the first section, there is a column called indicator_name that briefly specifies the purpoe of taking the debt. Just beside that column, there is another column called indicator_code which symbolizes the category of these debts. Knowing about these various debt indicators will help us to understand the areas in which a country can possibly indebted to."
   ]
  },
  {
   "cell_type": "code",
   "execution_count": null,
   "id": "4ad4b787-1264-4055-aa9f-c48223ee538a",
   "metadata": {},
   "outputs": [
    {
     "name": "stdout",
     "output_type": "stream",
     "text": [
      " * sqlite:///C:/Users/mansi/Downloads/international_debt.db\n",
      "Done.\n"
     ]
    },
    {
     "data": {
      "text/html": [
       "<table>\n",
       "    <thead>\n",
       "        <tr>\n",
       "            <th>distinct_debt_indicators</th>\n",
       "        </tr>\n",
       "    </thead>\n",
       "    <tbody>\n",
       "        <tr>\n",
       "            <td>DT.AMT.BLAT.CD</td>\n",
       "        </tr>\n",
       "        <tr>\n",
       "            <td>DT.AMT.DLXF.CD</td>\n",
       "        </tr>\n",
       "        <tr>\n",
       "            <td>DT.AMT.DPNG.CD</td>\n",
       "        </tr>\n",
       "        <tr>\n",
       "            <td>DT.AMT.MLAT.CD</td>\n",
       "        </tr>\n",
       "        <tr>\n",
       "            <td>DT.AMT.OFFT.CD</td>\n",
       "        </tr>\n",
       "        <tr>\n",
       "            <td>DT.AMT.PBND.CD</td>\n",
       "        </tr>\n",
       "        <tr>\n",
       "            <td>DT.AMT.PCBK.CD</td>\n",
       "        </tr>\n",
       "        <tr>\n",
       "            <td>DT.AMT.PROP.CD</td>\n",
       "        </tr>\n",
       "        <tr>\n",
       "            <td>DT.AMT.PRVT.CD</td>\n",
       "        </tr>\n",
       "        <tr>\n",
       "            <td>DT.DIS.BLAT.CD</td>\n",
       "        </tr>\n",
       "        <tr>\n",
       "            <td>DT.DIS.DLXF.CD</td>\n",
       "        </tr>\n",
       "        <tr>\n",
       "            <td>DT.DIS.MLAT.CD</td>\n",
       "        </tr>\n",
       "        <tr>\n",
       "            <td>DT.DIS.OFFT.CD</td>\n",
       "        </tr>\n",
       "        <tr>\n",
       "            <td>DT.DIS.PCBK.CD</td>\n",
       "        </tr>\n",
       "        <tr>\n",
       "            <td>DT.DIS.PROP.CD</td>\n",
       "        </tr>\n",
       "        <tr>\n",
       "            <td>DT.DIS.PRVT.CD</td>\n",
       "        </tr>\n",
       "        <tr>\n",
       "            <td>DT.INT.BLAT.CD</td>\n",
       "        </tr>\n",
       "        <tr>\n",
       "            <td>DT.INT.DLXF.CD</td>\n",
       "        </tr>\n",
       "        <tr>\n",
       "            <td>DT.INT.DPNG.CD</td>\n",
       "        </tr>\n",
       "        <tr>\n",
       "            <td>DT.INT.MLAT.CD</td>\n",
       "        </tr>\n",
       "        <tr>\n",
       "            <td>DT.INT.OFFT.CD</td>\n",
       "        </tr>\n",
       "        <tr>\n",
       "            <td>DT.INT.PBND.CD</td>\n",
       "        </tr>\n",
       "        <tr>\n",
       "            <td>DT.INT.PCBK.CD</td>\n",
       "        </tr>\n",
       "        <tr>\n",
       "            <td>DT.INT.PROP.CD</td>\n",
       "        </tr>\n",
       "        <tr>\n",
       "            <td>DT.INT.PRVT.CD</td>\n",
       "        </tr>\n",
       "    </tbody>\n",
       "</table>"
      ],
      "text/plain": [
       "[('DT.AMT.BLAT.CD',),\n",
       " ('DT.AMT.DLXF.CD',),\n",
       " ('DT.AMT.DPNG.CD',),\n",
       " ('DT.AMT.MLAT.CD',),\n",
       " ('DT.AMT.OFFT.CD',),\n",
       " ('DT.AMT.PBND.CD',),\n",
       " ('DT.AMT.PCBK.CD',),\n",
       " ('DT.AMT.PROP.CD',),\n",
       " ('DT.AMT.PRVT.CD',),\n",
       " ('DT.DIS.BLAT.CD',),\n",
       " ('DT.DIS.DLXF.CD',),\n",
       " ('DT.DIS.MLAT.CD',),\n",
       " ('DT.DIS.OFFT.CD',),\n",
       " ('DT.DIS.PCBK.CD',),\n",
       " ('DT.DIS.PROP.CD',),\n",
       " ('DT.DIS.PRVT.CD',),\n",
       " ('DT.INT.BLAT.CD',),\n",
       " ('DT.INT.DLXF.CD',),\n",
       " ('DT.INT.DPNG.CD',),\n",
       " ('DT.INT.MLAT.CD',),\n",
       " ('DT.INT.OFFT.CD',),\n",
       " ('DT.INT.PBND.CD',),\n",
       " ('DT.INT.PCBK.CD',),\n",
       " ('DT.INT.PROP.CD',),\n",
       " ('DT.INT.PRVT.CD',)]"
      ]
     },
     "execution_count": 8,
     "metadata": {},
     "output_type": "execute_result"
    }
   ],
   "source": [
    "%%sql\n",
    "SELECT DISTINCT indicator_code AS distinct_debt_indicators\n",
    "FROM international_debt\n",
    "ORDER BY distinct_debt_indicators;"
   ]
  },
  {
   "cell_type": "markdown",
   "id": "94353b4f-27b0-4cb3-98c6-4d7ec04ddaaf",
   "metadata": {},
   "source": [
    "## Totaling the ammount of debt owned by the countries"
   ]
  },
  {
   "cell_type": "markdown",
   "id": "29fe953f-d3c8-4da9-a8dc-c395121ca192",
   "metadata": {},
   "source": [
    "As mentioned earlier, the financial debt of a particular company represents its economic state.But if we were to project this on an overall global scale, how will we approach it?\n",
    "\n",
    "Lets's switch gears from debt indicators now and find out the total amount of debt(in USD) that is owned by the different countries. This will give us a sense of how the overall economy of the entire world is holding up."
   ]
  },
  {
   "cell_type": "code",
   "execution_count": null,
   "id": "004b1ff8-32fd-4589-8544-2e269ec7d1fb",
   "metadata": {},
   "outputs": [
    {
     "name": "stdout",
     "output_type": "stream",
     "text": [
      " * sqlite:///C:/Users/mansi/Downloads/international_debt.db\n",
      "Done.\n"
     ]
    },
    {
     "data": {
      "text/html": [
       "<table>\n",
       "    <thead>\n",
       "        <tr>\n",
       "            <th>total_debt</th>\n",
       "        </tr>\n",
       "    </thead>\n",
       "    <tbody>\n",
       "        <tr>\n",
       "            <td>3079734.49</td>\n",
       "        </tr>\n",
       "    </tbody>\n",
       "</table>"
      ],
      "text/plain": [
       "[(3079734.49,)]"
      ]
     },
     "execution_count": 10,
     "metadata": {},
     "output_type": "execute_result"
    }
   ],
   "source": [
    "%%sql\n",
    "SELECT\n",
    "    ROUND(SUM(debt)/1000000, 2) AS total_debt\n",
    "FROM international_debt"
   ]
  },
  {
   "cell_type": "markdown",
   "id": "194410f6-4e7d-4d86-8a49-7c97fc27471f",
   "metadata": {},
   "source": [
    "## 5.Country with the highest debt"
   ]
  },
  {
   "cell_type": "markdown",
   "id": "a2108d4c-9b44-40c9-ad9d-b40b599181f6",
   "metadata": {},
   "source": [
    "\"Human beings cannot comprehend very large or very small numbers. It would be useful for us to acknowledge that fact\" -Daniel Kahneman. That is more than 3 million millon USD, an amount which is really hard for us to fanthom.\n",
    "\n",
    "Now we have the exact total of the amounts of debt owned by several countries, lets now find out the country that owns the highest amount of debt along with the amount. *NOTE* that this debt is the sum of the different debts owned by a country across several categories. This will help us to understand more about the country in terms of socio- economic scenarios. We can also find out the category in which the country owns its highest debt. But we will leave that for now."
   ]
  },
  {
   "cell_type": "code",
   "execution_count": null,
   "id": "649b61b5-36c2-4e49-b909-faf01da3f970",
   "metadata": {},
   "outputs": [
    {
     "name": "stdout",
     "output_type": "stream",
     "text": [
      " * sqlite:///C:/Users/mansi/Downloads/international_debt.db\n",
      "Done.\n"
     ]
    },
    {
     "data": {
      "text/html": [
       "<table>\n",
       "    <thead>\n",
       "        <tr>\n",
       "            <th>country_name</th>\n",
       "            <th>total_debt</th>\n",
       "        </tr>\n",
       "    </thead>\n",
       "    <tbody>\n",
       "        <tr>\n",
       "            <td>China</td>\n",
       "            <td>285793494734.2</td>\n",
       "        </tr>\n",
       "    </tbody>\n",
       "</table>"
      ],
      "text/plain": [
       "[('China', 285793494734.2)]"
      ]
     },
     "execution_count": 12,
     "metadata": {},
     "output_type": "execute_result"
    }
   ],
   "source": [
    "%%sql\n",
    "SELECT\n",
    "    country_name,\n",
    "    SUM(debt) AS total_debt\n",
    "FROM international_debt\n",
    "GROUP BY country_name\n",
    "ORDER BY total_debt DESC\n",
    "LIMIT 1;"
   ]
  },
  {
   "cell_type": "markdown",
   "id": "721ce05b-0e70-4cfa-b828-d8c72fdabcc6",
   "metadata": {},
   "source": [
    "## 6. Average amount of debt across indicators"
   ]
  },
  {
   "cell_type": "markdown",
   "id": "ed350c58-ab2e-4795-bb73-f2a1fd93a3a9",
   "metadata": {},
   "source": [
    "So, it was China. A more in-depth breakdown of China's debts can be found here.\n",
    "\n",
    "We now have a brief overview of the dataset and a few of its summary statistics. We already have an idea of different debt indicators in which the countries owe their debts. We can dig even further to find out of an average how much debt a country owes? This will give us a better sense of the distribution of the amount of debt across different indicators"
   ]
  },
  {
   "cell_type": "code",
   "execution_count": null,
   "id": "68dcc605-c7fc-46eb-9f06-bc9a25beda2f",
   "metadata": {},
   "outputs": [
    {
     "name": "stdout",
     "output_type": "stream",
     "text": [
      " * sqlite:///C:/Users/mansi/Downloads/international_debt.db\n",
      "Done.\n"
     ]
    },
    {
     "data": {
      "text/html": [
       "<table>\n",
       "    <thead>\n",
       "        <tr>\n",
       "            <th>debt_indicator</th>\n",
       "            <th>indicator_name</th>\n",
       "            <th>average_debt</th>\n",
       "        </tr>\n",
       "    </thead>\n",
       "    <tbody>\n",
       "        <tr>\n",
       "            <td>DT.AMT.DLXF.CD</td>\n",
       "            <td>Principal repayments on external debt, long-term (AMT, current US$)</td>\n",
       "            <td>5904868401.499195</td>\n",
       "        </tr>\n",
       "        <tr>\n",
       "            <td>DT.AMT.DPNG.CD</td>\n",
       "            <td>Principal repayments on external debt, private nonguaranteed (PNG) (AMT, current US$)</td>\n",
       "            <td>5161194333.812659</td>\n",
       "        </tr>\n",
       "        <tr>\n",
       "            <td>DT.DIS.DLXF.CD</td>\n",
       "            <td>Disbursements on external debt, long-term (DIS, current US$)</td>\n",
       "            <td>2152041216.8902435</td>\n",
       "        </tr>\n",
       "        <tr>\n",
       "            <td>DT.DIS.OFFT.CD</td>\n",
       "            <td>PPG, official creditors (DIS, current US$)</td>\n",
       "            <td>1958983452.8598356</td>\n",
       "        </tr>\n",
       "        <tr>\n",
       "            <td>DT.AMT.PRVT.CD</td>\n",
       "            <td>PPG, private creditors (AMT, current US$)</td>\n",
       "            <td>1803694101.963265</td>\n",
       "        </tr>\n",
       "        <tr>\n",
       "            <td>DT.INT.DLXF.CD</td>\n",
       "            <td>Interest payments on external debt, long-term (INT, current US$)</td>\n",
       "            <td>1644024067.6508067</td>\n",
       "        </tr>\n",
       "        <tr>\n",
       "            <td>DT.DIS.BLAT.CD</td>\n",
       "            <td>PPG, bilateral (DIS, current US$)</td>\n",
       "            <td>1223139290.39823</td>\n",
       "        </tr>\n",
       "        <tr>\n",
       "            <td>DT.INT.DPNG.CD</td>\n",
       "            <td>Interest payments on external debt, private nonguaranteed (PNG) (INT, current US$)</td>\n",
       "            <td>1220410844.4215188</td>\n",
       "        </tr>\n",
       "        <tr>\n",
       "            <td>DT.AMT.OFFT.CD</td>\n",
       "            <td>PPG, official creditors (AMT, current US$)</td>\n",
       "            <td>1191187963.083064</td>\n",
       "        </tr>\n",
       "        <tr>\n",
       "            <td>DT.AMT.PBND.CD</td>\n",
       "            <td>PPG, bonds (AMT, current US$)</td>\n",
       "            <td>1082623947.6536236</td>\n",
       "        </tr>\n",
       "    </tbody>\n",
       "</table>"
      ],
      "text/plain": [
       "[('DT.AMT.DLXF.CD', 'Principal repayments on external debt, long-term (AMT, current US$)', 5904868401.499195),\n",
       " ('DT.AMT.DPNG.CD', 'Principal repayments on external debt, private nonguaranteed (PNG) (AMT, current US$)', 5161194333.812659),\n",
       " ('DT.DIS.DLXF.CD', 'Disbursements on external debt, long-term (DIS, current US$)', 2152041216.8902435),\n",
       " ('DT.DIS.OFFT.CD', 'PPG, official creditors (DIS, current US$)', 1958983452.8598356),\n",
       " ('DT.AMT.PRVT.CD', 'PPG, private creditors (AMT, current US$)', 1803694101.963265),\n",
       " ('DT.INT.DLXF.CD', 'Interest payments on external debt, long-term (INT, current US$)', 1644024067.6508067),\n",
       " ('DT.DIS.BLAT.CD', 'PPG, bilateral (DIS, current US$)', 1223139290.39823),\n",
       " ('DT.INT.DPNG.CD', 'Interest payments on external debt, private nonguaranteed (PNG) (INT, current US$)', 1220410844.4215188),\n",
       " ('DT.AMT.OFFT.CD', 'PPG, official creditors (AMT, current US$)', 1191187963.083064),\n",
       " ('DT.AMT.PBND.CD', 'PPG, bonds (AMT, current US$)', 1082623947.6536236)]"
      ]
     },
     "execution_count": 13,
     "metadata": {},
     "output_type": "execute_result"
    }
   ],
   "source": [
    "%%sql\n",
    "SELECT\n",
    "    indicator_code AS debt_indicator,\n",
    "    indicator_name,\n",
    "    AVG(debt) AS average_debt\n",
    "FROM international_debt\n",
    "GROUP BY debt_indicator, indicator_name\n",
    "ORDER BY average_debt DESC\n",
    "LIMIT 10"
   ]
  },
  {
   "cell_type": "markdown",
   "id": "83a63a07-b56b-429c-91eb-19e5404fc25c",
   "metadata": {},
   "source": [
    "## 7.The highest amount of principal repayments"
   ]
  },
  {
   "cell_type": "markdown",
   "id": "269acee2-8e95-47d5-910e-9c68c5cebc4e",
   "metadata": {},
   "source": [
    "We can see that the indicator DT.AMT.DLFX.CD tops the charts of average debt. This category includes repayment of long term debts. Countries take on long-term debt to acquire immediate capital. More info about this category can be found here.\n",
    "\n",
    "An interesting observation in the above findings is that there is a huge difference in the amounts of the indicators after the second one. This indicates that there is a huge difference in the amounts of the indicators after the second one.This indicates that the 1st 2 indicators might be the most severe categories in which the countries owe their debts.\n",
    "\n",
    "We can investigate this a bit more so as to find out which country owes the highest amount of debts in the category of long term debt (DT.AMT.DLFX.CD). Since not all countries suffer from the same kind of ecnomic disturbances, this finding will allow us to understand that particular country's economic condition a bit more specifically"
   ]
  },
  {
   "cell_type": "code",
   "execution_count": 40,
   "id": "183bf2c8-1694-4808-8b85-901caf9af868",
   "metadata": {},
   "outputs": [
    {
     "name": "stdout",
     "output_type": "stream",
     "text": [
      " * sqlite:///C:/Users/mansi/Downloads/international_debt.db\n",
      "Done.\n"
     ]
    },
    {
     "data": {
      "text/html": [
       "<table>\n",
       "    <thead>\n",
       "        <tr>\n",
       "            <th>country_code</th>\n",
       "            <th>indicator_name</th>\n",
       "        </tr>\n",
       "    </thead>\n",
       "    <tbody>\n",
       "        <tr>\n",
       "            <td>CHN</td>\n",
       "            <td>Principal repayments on external debt, long-term (AMT, current US$)</td>\n",
       "        </tr>\n",
       "    </tbody>\n",
       "</table>"
      ],
      "text/plain": [
       "[('CHN', 'Principal repayments on external debt, long-term (AMT, current US$)')]"
      ]
     },
     "execution_count": 40,
     "metadata": {},
     "output_type": "execute_result"
    }
   ],
   "source": [
    "%%sql \n",
    "SELECT \n",
    "    country_code,\n",
    "    indicator_name\n",
    "FROM international_debt\n",
    "WHERE debt = (SELECT\n",
    "               MAX(debt)\n",
    "             FROM international_debt\n",
    "             WHERE indicator_code = 'DT.AMT.DLXF.CD');"
   ]
  },
  {
   "cell_type": "markdown",
   "id": "4c64dbec-98d2-4074-9866-3d994e489977",
   "metadata": {},
   "source": [
    "## 8.The most common debt indicator"
   ]
  },
  {
   "cell_type": "markdown",
   "id": "d0dc7a90-1879-47fd-b7cd-08e8f87fd390",
   "metadata": {},
   "source": [
    "China has the highest amount of debt in the long-term debt(DT.AMT.DLXF.CD)category. This is verified by the World Bank. It is often a good idea to verify our analyses like this since it validates that our investigation is correct.\n",
    "\n",
    "We saw that long-term is the top-most category when it comes o the average amount of debt. But is it the most common indicator in which the countries owe their debt? Lets find that out."
   ]
  },
  {
   "cell_type": "code",
   "execution_count": 38,
   "id": "14de3c38-7d0d-46ff-a6ff-479e1492dbfa",
   "metadata": {},
   "outputs": [
    {
     "name": "stdout",
     "output_type": "stream",
     "text": [
      " * sqlite:///C:/Users/mansi/Downloads/international_debt.db\n",
      "Done.\n"
     ]
    },
    {
     "data": {
      "text/html": [
       "<table>\n",
       "    <thead>\n",
       "        <tr>\n",
       "            <th>indicator_code</th>\n",
       "            <th>indicator_count</th>\n",
       "        </tr>\n",
       "    </thead>\n",
       "    <tbody>\n",
       "        <tr>\n",
       "            <td>DT.INT.OFFT.CD</td>\n",
       "            <td>124</td>\n",
       "        </tr>\n",
       "        <tr>\n",
       "            <td>DT.INT.MLAT.CD</td>\n",
       "            <td>124</td>\n",
       "        </tr>\n",
       "        <tr>\n",
       "            <td>DT.INT.DLXF.CD</td>\n",
       "            <td>124</td>\n",
       "        </tr>\n",
       "        <tr>\n",
       "            <td>DT.AMT.OFFT.CD</td>\n",
       "            <td>124</td>\n",
       "        </tr>\n",
       "        <tr>\n",
       "            <td>DT.AMT.MLAT.CD</td>\n",
       "            <td>124</td>\n",
       "        </tr>\n",
       "        <tr>\n",
       "            <td>DT.AMT.DLXF.CD</td>\n",
       "            <td>124</td>\n",
       "        </tr>\n",
       "        <tr>\n",
       "            <td>DT.DIS.DLXF.CD</td>\n",
       "            <td>123</td>\n",
       "        </tr>\n",
       "        <tr>\n",
       "            <td>DT.INT.BLAT.CD</td>\n",
       "            <td>122</td>\n",
       "        </tr>\n",
       "        <tr>\n",
       "            <td>DT.DIS.OFFT.CD</td>\n",
       "            <td>122</td>\n",
       "        </tr>\n",
       "        <tr>\n",
       "            <td>DT.AMT.BLAT.CD</td>\n",
       "            <td>122</td>\n",
       "        </tr>\n",
       "        <tr>\n",
       "            <td>DT.DIS.MLAT.CD</td>\n",
       "            <td>120</td>\n",
       "        </tr>\n",
       "        <tr>\n",
       "            <td>DT.DIS.BLAT.CD</td>\n",
       "            <td>113</td>\n",
       "        </tr>\n",
       "        <tr>\n",
       "            <td>DT.INT.PRVT.CD</td>\n",
       "            <td>98</td>\n",
       "        </tr>\n",
       "        <tr>\n",
       "            <td>DT.AMT.PRVT.CD</td>\n",
       "            <td>98</td>\n",
       "        </tr>\n",
       "        <tr>\n",
       "            <td>DT.INT.PCBK.CD</td>\n",
       "            <td>84</td>\n",
       "        </tr>\n",
       "        <tr>\n",
       "            <td>DT.AMT.PCBK.CD</td>\n",
       "            <td>84</td>\n",
       "        </tr>\n",
       "        <tr>\n",
       "            <td>DT.INT.DPNG.CD</td>\n",
       "            <td>79</td>\n",
       "        </tr>\n",
       "        <tr>\n",
       "            <td>DT.AMT.DPNG.CD</td>\n",
       "            <td>79</td>\n",
       "        </tr>\n",
       "        <tr>\n",
       "            <td>DT.INT.PBND.CD</td>\n",
       "            <td>69</td>\n",
       "        </tr>\n",
       "        <tr>\n",
       "            <td>DT.AMT.PBND.CD</td>\n",
       "            <td>69</td>\n",
       "        </tr>\n",
       "    </tbody>\n",
       "</table>"
      ],
      "text/plain": [
       "[('DT.INT.OFFT.CD', 124),\n",
       " ('DT.INT.MLAT.CD', 124),\n",
       " ('DT.INT.DLXF.CD', 124),\n",
       " ('DT.AMT.OFFT.CD', 124),\n",
       " ('DT.AMT.MLAT.CD', 124),\n",
       " ('DT.AMT.DLXF.CD', 124),\n",
       " ('DT.DIS.DLXF.CD', 123),\n",
       " ('DT.INT.BLAT.CD', 122),\n",
       " ('DT.DIS.OFFT.CD', 122),\n",
       " ('DT.AMT.BLAT.CD', 122),\n",
       " ('DT.DIS.MLAT.CD', 120),\n",
       " ('DT.DIS.BLAT.CD', 113),\n",
       " ('DT.INT.PRVT.CD', 98),\n",
       " ('DT.AMT.PRVT.CD', 98),\n",
       " ('DT.INT.PCBK.CD', 84),\n",
       " ('DT.AMT.PCBK.CD', 84),\n",
       " ('DT.INT.DPNG.CD', 79),\n",
       " ('DT.AMT.DPNG.CD', 79),\n",
       " ('DT.INT.PBND.CD', 69),\n",
       " ('DT.AMT.PBND.CD', 69)]"
      ]
     },
     "execution_count": 38,
     "metadata": {},
     "output_type": "execute_result"
    }
   ],
   "source": [
    "%%sql \n",
    "SELECT indicator_code,\n",
    "COUNT(indicator_code) AS indicator_count\n",
    "FROM international_debt\n",
    "GROUP BY indicator_code\n",
    "ORDER BY indicator_count DESC, indicator_code DESC\n",
    "LIMIT 20;"
   ]
  },
  {
   "cell_type": "markdown",
   "id": "5a019c6c-f6be-4e69-bbef-d874a461b7ee",
   "metadata": {},
   "source": [
    "## 9. Other viable debt issues and conclusions"
   ]
  },
  {
   "cell_type": "markdown",
   "id": "d88273cb-2589-4369-9b7c-6c39ab38bc8b",
   "metadata": {},
   "source": [
    "There are a total of six debt indicators in which all countries listed in our dataset have taken debt. The indicator DT.AMT.DLFX.CD is also there in the list. So, this gives us a clue that all these countries are suffering from a common economic issue.But that is not the end of the story, but just a part of the story.\n",
    "\n",
    "Let's change tracts from debt_indicator now and focus on the amount of debt again. Lets find out tha maximum amount of debt that each country has. Withj this, we willl be in a position to identify the other plausible economic issue a country might be going through.\n",
    "\n",
    "In this, notebook we took a look at debt owed by countries across the globe. We extracted a few summary statistics from the data and unraveled some interesting facts and figures. We also validated out findings to make sure the investigations our correct."
   ]
  },
  {
   "cell_type": "code",
   "execution_count": 52,
   "id": "b8cc2b0f-226d-4ff4-aa91-e6207748159e",
   "metadata": {},
   "outputs": [
    {
     "name": "stdout",
     "output_type": "stream",
     "text": [
      " * sqlite:///C:/Users/mansi/Downloads/international_debt.db\n",
      "Done.\n"
     ]
    },
    {
     "data": {
      "text/html": [
       "<table>\n",
       "    <thead>\n",
       "        <tr>\n",
       "            <th>country_name</th>\n",
       "            <th>maximum_debt</th>\n",
       "        </tr>\n",
       "    </thead>\n",
       "    <tbody>\n",
       "        <tr>\n",
       "            <td>China</td>\n",
       "            <td>96218620835.7</td>\n",
       "        </tr>\n",
       "        <tr>\n",
       "            <td>Brazil</td>\n",
       "            <td>90041840304.1</td>\n",
       "        </tr>\n",
       "        <tr>\n",
       "            <td>Russian Federation</td>\n",
       "            <td>66589761833.5</td>\n",
       "        </tr>\n",
       "        <tr>\n",
       "            <td>Turkey</td>\n",
       "            <td>51555031005.80001</td>\n",
       "        </tr>\n",
       "        <tr>\n",
       "            <td>South Asia</td>\n",
       "            <td>48756295898.19999</td>\n",
       "        </tr>\n",
       "        <tr>\n",
       "            <td>Least developed countries: UN classification</td>\n",
       "            <td>40160766261.6</td>\n",
       "        </tr>\n",
       "        <tr>\n",
       "            <td>IDA only</td>\n",
       "            <td>34531188113.2</td>\n",
       "        </tr>\n",
       "        <tr>\n",
       "            <td>India</td>\n",
       "            <td>31923507000.8</td>\n",
       "        </tr>\n",
       "        <tr>\n",
       "            <td>Indonesia</td>\n",
       "            <td>30916112653.8</td>\n",
       "        </tr>\n",
       "        <tr>\n",
       "            <td>Kazakhstan</td>\n",
       "            <td>27482093686.4</td>\n",
       "        </tr>\n",
       "    </tbody>\n",
       "</table>"
      ],
      "text/plain": [
       "[('China', 96218620835.7),\n",
       " ('Brazil', 90041840304.1),\n",
       " ('Russian Federation', 66589761833.5),\n",
       " ('Turkey', 51555031005.80001),\n",
       " ('South Asia', 48756295898.19999),\n",
       " ('Least developed countries: UN classification', 40160766261.6),\n",
       " ('IDA only', 34531188113.2),\n",
       " ('India', 31923507000.8),\n",
       " ('Indonesia', 30916112653.8),\n",
       " ('Kazakhstan', 27482093686.4)]"
      ]
     },
     "execution_count": 52,
     "metadata": {},
     "output_type": "execute_result"
    }
   ],
   "source": [
    "%%sql\n",
    "SELECT country_name, MAX(debt) AS maximum_debt\n",
    "FROM international_debt\n",
    "GROUP BY country_name\n",
    "ORDER BY maximum_debt DESC\n",
    "LIMIT 10;"
   ]
  },
  {
   "cell_type": "code",
   "execution_count": null,
   "id": "aa34432b-a29f-46c1-9335-b68ef5d65c09",
   "metadata": {},
   "outputs": [],
   "source": []
  }
 ],
 "metadata": {
  "kernelspec": {
   "display_name": "Python 3 (ipykernel)",
   "language": "python",
   "name": "python3"
  },
  "language_info": {
   "codemirror_mode": {
    "name": "ipython",
    "version": 3
   },
   "file_extension": ".py",
   "mimetype": "text/x-python",
   "name": "python",
   "nbconvert_exporter": "python",
   "pygments_lexer": "ipython3",
   "version": "3.11.7"
  }
 },
 "nbformat": 4,
 "nbformat_minor": 5
}
